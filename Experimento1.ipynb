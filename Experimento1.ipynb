{
 "cells": [
  {
   "cell_type": "code",
   "execution_count": null,
   "metadata": {},
   "outputs": [
    {
     "name": "stdout",
     "output_type": "stream",
     "text": [
      "e:\\proyecto-transfer-learning\\Config\n"
     ]
    },
    {
     "name": "stderr",
     "output_type": "stream",
     "text": [
      "Using bfloat16 Automatic Mixed Precision (AMP)\n",
      "GPU available: True (cuda), used: True\n",
      "TPU available: False, using: 0 TPU cores\n",
      "HPU available: False, using: 0 HPUs\n"
     ]
    },
    {
     "name": "stdout",
     "output_type": "stream",
     "text": [
      "<class 'AutoencoderU.AutoEncoder'>\n"
     ]
    },
    {
     "name": "stderr",
     "output_type": "stream",
     "text": [
      "\u001b[34m\u001b[1mwandb\u001b[0m: Using wandb-core as the SDK backend.  Please refer to https://wandb.me/wandb-core for more information.\n",
      "\u001b[34m\u001b[1mwandb\u001b[0m: Currently logged in as: \u001b[33miaredescnncnn\u001b[0m (\u001b[33miaredescnncnn-instituto-tecnol-gico-de-costa-rica\u001b[0m). Use \u001b[1m`wandb login --relogin`\u001b[0m to force relogin\n",
      "Error executing job with overrides: []\n",
      "Traceback (most recent call last):\n",
      "  File \"C:\\Users\\Administrator\\AppData\\Local\\Temp\\ipykernel_8856\\427170226.py\", line 33, in trainining_autoencoder_ninety_10\n",
      "    trainer.fit(autoencoder,train_dataloaders=data_manager.unsupervised_train_loader(),\n",
      "  File \"c:\\ProgramData\\miniconda3\\Lib\\site-packages\\pytorch_lightning\\trainer\\trainer.py\", line 538, in fit\n",
      "    call._call_and_handle_interrupt(\n",
      "  File \"c:\\ProgramData\\miniconda3\\Lib\\site-packages\\pytorch_lightning\\trainer\\call.py\", line 47, in _call_and_handle_interrupt\n",
      "    return trainer_fn(*args, **kwargs)\n",
      "           ^^^^^^^^^^^^^^^^^^^^^^^^^^^\n",
      "  File \"c:\\ProgramData\\miniconda3\\Lib\\site-packages\\pytorch_lightning\\trainer\\trainer.py\", line 574, in _fit_impl\n",
      "    self._run(model, ckpt_path=ckpt_path)\n",
      "  File \"c:\\ProgramData\\miniconda3\\Lib\\site-packages\\pytorch_lightning\\trainer\\trainer.py\", line 943, in _run\n",
      "    call._call_setup_hook(self)  # allow user to set up LightningModule in accelerator environment\n",
      "    ^^^^^^^^^^^^^^^^^^^^^^^^^^^\n",
      "  File \"c:\\ProgramData\\miniconda3\\Lib\\site-packages\\pytorch_lightning\\trainer\\call.py\", line 96, in _call_setup_hook\n",
      "    if hasattr(logger, \"experiment\"):\n",
      "       ^^^^^^^^^^^^^^^^^^^^^^^^^^^^^\n",
      "  File \"c:\\ProgramData\\miniconda3\\Lib\\site-packages\\lightning_fabric\\loggers\\logger.py\", line 118, in experiment\n",
      "    return fn(self)\n",
      "           ^^^^^^^^\n",
      "  File \"c:\\ProgramData\\miniconda3\\Lib\\site-packages\\pytorch_lightning\\loggers\\wandb.py\", line 406, in experiment\n",
      "    self._experiment = wandb.init(**self._wandb_init)\n",
      "                       ^^^^^^^^^^^^^^^^^^^^^^^^^^^^^^\n",
      "  File \"c:\\ProgramData\\miniconda3\\Lib\\site-packages\\wandb\\sdk\\wandb_init.py\", line 1270, in init\n",
      "    wandb._sentry.reraise(e)\n",
      "  File \"c:\\ProgramData\\miniconda3\\Lib\\site-packages\\wandb\\analytics\\sentry.py\", line 161, in reraise\n",
      "    raise exc.with_traceback(sys.exc_info()[2])\n",
      "  File \"c:\\ProgramData\\miniconda3\\Lib\\site-packages\\wandb\\sdk\\wandb_init.py\", line 1256, in init\n",
      "    return wi.init()\n",
      "           ^^^^^^^^^\n",
      "  File \"c:\\ProgramData\\miniconda3\\Lib\\site-packages\\wandb\\sdk\\wandb_init.py\", line 816, in init\n",
      "    run_init_handle = backend.interface.deliver_run(run)\n",
      "                      ^^^^^^^^^^^^^^^^^^^^^^^^^^^^^^^^^^\n",
      "  File \"c:\\ProgramData\\miniconda3\\Lib\\site-packages\\wandb\\sdk\\interface\\interface.py\", line 845, in deliver_run\n",
      "    run_record = self._make_run(run)\n",
      "                 ^^^^^^^^^^^^^^^^^^^\n",
      "  File \"c:\\ProgramData\\miniconda3\\Lib\\site-packages\\wandb\\sdk\\interface\\interface.py\", line 157, in _make_run\n",
      "    self._make_config(data=config_dict, obj=proto_run.config)\n",
      "  File \"c:\\ProgramData\\miniconda3\\Lib\\site-packages\\wandb\\sdk\\interface\\interface.py\", line 139, in _make_config\n",
      "    update.value_json = json_dumps_safer(json_friendly(v)[0])\n",
      "                        ^^^^^^^^^^^^^^^^^^^^^^^^^^^^^^^^^^^^^\n",
      "  File \"c:\\ProgramData\\miniconda3\\Lib\\site-packages\\wandb\\util.py\", line 830, in json_dumps_safer\n",
      "    return dumps(obj, cls=WandBJSONEncoder, **kwargs)\n",
      "           ^^^^^^^^^^^^^^^^^^^^^^^^^^^^^^^^^^^^^^^^^^\n",
      "  File \"c:\\ProgramData\\miniconda3\\Lib\\json\\__init__.py\", line 238, in dumps\n",
      "    **kw).encode(obj)\n",
      "          ^^^^^^^^^^^\n",
      "  File \"c:\\ProgramData\\miniconda3\\Lib\\json\\encoder.py\", line 200, in encode\n",
      "    chunks = self.iterencode(o, _one_shot=True)\n",
      "             ^^^^^^^^^^^^^^^^^^^^^^^^^^^^^^^^^^\n",
      "  File \"c:\\ProgramData\\miniconda3\\Lib\\json\\encoder.py\", line 258, in iterencode\n",
      "    return _iterencode(o, 0)\n",
      "           ^^^^^^^^^^^^^^^^^\n",
      "TypeError: keys must be str, int, float, bool or None, not tuple\n",
      "\n",
      "Set the environment variable HYDRA_FULL_ERROR=1 for a complete stack trace.\n"
     ]
    },
    {
     "ename": "SystemExit",
     "evalue": "1",
     "output_type": "error",
     "traceback": [
      "An exception has occurred, use %tb to see the full traceback.\n",
      "\u001b[1;31mSystemExit\u001b[0m\u001b[1;31m:\u001b[0m 1\n"
     ]
    },
    {
     "name": "stderr",
     "output_type": "stream",
     "text": [
      "c:\\ProgramData\\miniconda3\\Lib\\site-packages\\IPython\\core\\interactiveshell.py:3585: UserWarning: To exit: use 'exit', 'quit', or Ctrl-D.\n",
      "  warn(\"To exit: use 'exit', 'quit', or Ctrl-D.\", stacklevel=1)\n"
     ]
    }
   ],
   "source": [
    "import sys\n",
    "import os\n",
    "import hydra\n",
    "from Config.config import Configuration\n",
    "from AutoencoderU import AutoEncoder\n",
    "import pytorch_lightning as L\n",
    "from DataModule import ButterflyDataModule\n",
    "from pytorch_lightning.callbacks import EarlyStopping\n",
    "from pytorch_lightning.loggers import WandbLogger\n",
    "\n",
    "\n",
    "notebook_dir = os.path.dirname(os.path.abspath(os.getcwd()))\n",
    "config_dir = os.path.join(notebook_dir,\"proyecto-transfer-learning\\\\Config\")\n",
    "print(config_dir)\n",
    "\n",
    "sys.argv = [arg for arg in sys.argv if not arg.startswith(\"--\")]\n",
    "\n",
    "@hydra.main(config_path=config_dir, config_name=\"config\", version_base=None)\n",
    "def trainining_autoencoder_ninety_10(config: Configuration):\n",
    "    data_manager = ButterflyDataModule(config.DATASET.DATA_DIR,config.TRAIN.BATCH_SIZE, config.SPLIT.NEEDS_SPLIT, \n",
    "    config.SPLIT.SPLIT_RATIO,config.TRAIN.NUM_WORKERS)\n",
    "    data_manager.setup()\n",
    "    wandb_logger = WandbLogger(\n",
    "        project=\"project-three-autoencoder\",\n",
    "        log_model=True,\n",
    "    )\n",
    "    autoencoder = AutoEncoder(config.TRAIN.LEARNING_RATE,config.MODEL.LATENT_DIM)\n",
    "    print(type(autoencoder)) \n",
    "    trainer = L.Trainer(max_epochs=config.TRAIN.NUM_EPOCHS, accelerator=config.TRAIN.ACCELERATION,\n",
    "    precision=config.TRAIN.PRECISION,callbacks=[EarlyStopping(monitor=\"autoencoder_val_loss\", mode=\"min\")], \n",
    "    logger=wandb_logger)\n",
    "    trainer.fit(autoencoder,train_dataloaders=data_manager.unsupervised_train_loader(), \n",
    "    val_dataloaders=data_manager.test_dataloader())\n",
    "\n",
    "    wandb_logger.experiment.finish()\n",
    "\n",
    "trainining_autoencoder_ninety_10()\n"
   ]
  }
 ],
 "metadata": {
  "kernelspec": {
   "display_name": "base",
   "language": "python",
   "name": "python3"
  },
  "language_info": {
   "codemirror_mode": {
    "name": "ipython",
    "version": 3
   },
   "file_extension": ".py",
   "mimetype": "text/x-python",
   "name": "python",
   "nbconvert_exporter": "python",
   "pygments_lexer": "ipython3",
   "version": "3.12.3"
  }
 },
 "nbformat": 4,
 "nbformat_minor": 2
}
