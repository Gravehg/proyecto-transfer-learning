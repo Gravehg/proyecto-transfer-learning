{
 "cells": [
  {
   "cell_type": "code",
   "execution_count": null,
   "metadata": {},
   "outputs": [],
   "source": [
    "import sys\n",
    "import os\n",
    "import hydra\n",
    "from Config.config import Configuration\n",
    "from AutoencoderU import AutoEncoder\n",
    "import pytorch_lightning as L\n",
    "from DataModule import ButterflyDataModule\n",
    "\n",
    "notebook_dir = os.path.dirname(os.path.abspath(os.getcwd()))\n",
    "config_dir = os.path.join(notebook_dir,\"proyecto-transfer-learning\\\\Config\")\n",
    "\n",
    "sys.argv = [arg for arg in sys.argv if not arg.startswith(\"--\")]"
   ]
  }
 ],
 "metadata": {
  "kernelspec": {
   "display_name": "base",
   "language": "python",
   "name": "python3"
  },
  "language_info": {
   "name": "python",
   "version": "3.12.3"
  }
 },
 "nbformat": 4,
 "nbformat_minor": 2
}
